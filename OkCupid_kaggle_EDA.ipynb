{
 "cells": [
  {
   "attachments": {},
   "cell_type": "markdown",
   "metadata": {},
   "source": [
    "# Ok Cupid Dataset EDA"
   ]
  },
  {
   "attachments": {},
   "cell_type": "markdown",
   "metadata": {},
   "source": [
    "This dataset was picked on the name alone to do an initial clean and EDA.\n",
    "The dataset is completly unfamiliar to me - I want to practice familiarising myself with the set and seeing what I can learn about it, to see what further investigation can stem from it. "
   ]
  },
  {
   "cell_type": "code",
   "execution_count": 26,
   "metadata": {},
   "outputs": [],
   "source": [
    "# initial imports and check file is readable\n",
    "import pandas as pd\n",
    "okcupid = pd.read_csv('OkCupid_kaggle_dataset.zip')\n"
   ]
  },
  {
   "cell_type": "code",
   "execution_count": 27,
   "metadata": {},
   "outputs": [
    {
     "name": "stdout",
     "output_type": "stream",
     "text": [
      "   age     status sex orientation       body_type               diet  \\\n",
      "0   22     single   m    straight  a little extra  strictly anything   \n",
      "1   35     single   m    straight         average       mostly other   \n",
      "2   38  available   m    straight            thin           anything   \n",
      "3   23     single   m    straight            thin         vegetarian   \n",
      "4   29     single   m    straight        athletic                NaN   \n",
      "5   29     single   m    straight         average    mostly anything   \n",
      "6   32     single   f    straight             fit  strictly anything   \n",
      "7   31     single   f    straight         average    mostly anything   \n",
      "8   24     single   f    straight             NaN  strictly anything   \n",
      "9   37     single   m    straight        athletic    mostly anything   \n",
      "\n",
      "       drinks      drugs                          education  \\\n",
      "0    socially      never      working on college/university   \n",
      "1       often  sometimes              working on space camp   \n",
      "2    socially        NaN     graduated from masters program   \n",
      "3    socially        NaN      working on college/university   \n",
      "4    socially      never  graduated from college/university   \n",
      "5    socially        NaN  graduated from college/university   \n",
      "6    socially      never  graduated from college/university   \n",
      "7    socially      never  graduated from college/university   \n",
      "8    socially        NaN  graduated from college/university   \n",
      "9  not at all      never        working on two-year college   \n",
      "\n",
      "             ethnicity  height  income                             job  \\\n",
      "0         asian, white    75.0      -1                  transportation   \n",
      "1                white    70.0   80000            hospitality / travel   \n",
      "2                  NaN    68.0      -1                             NaN   \n",
      "3                white    71.0   20000                         student   \n",
      "4  asian, black, other    66.0      -1     artistic / musical / writer   \n",
      "5                white    67.0      -1  computer / hardware / software   \n",
      "6         white, other    65.0      -1                             NaN   \n",
      "7                white    65.0      -1     artistic / musical / writer   \n",
      "8                white    67.0      -1                             NaN   \n",
      "9                white    65.0      -1                         student   \n",
      "\n",
      "        last_online                         location  \\\n",
      "0  2012-06-28-20-30  south san francisco, california   \n",
      "1  2012-06-29-21-41              oakland, california   \n",
      "2  2012-06-27-09-10        san francisco, california   \n",
      "3  2012-06-28-14-22             berkeley, california   \n",
      "4  2012-06-27-21-26        san francisco, california   \n",
      "5  2012-06-29-19-18        san francisco, california   \n",
      "6  2012-06-25-20-45        san francisco, california   \n",
      "7  2012-06-29-12-30        san francisco, california   \n",
      "8  2012-06-29-23-39    belvedere tiburon, california   \n",
      "9  2012-06-28-21-08            san mateo, california   \n",
      "\n",
      "                                offspring                       pets  \\\n",
      "0  doesn't have kids, but might want them  likes dogs and likes cats   \n",
      "1  doesn't have kids, but might want them  likes dogs and likes cats   \n",
      "2                                     NaN                   has cats   \n",
      "3                       doesn't want kids                 likes cats   \n",
      "4                                     NaN  likes dogs and likes cats   \n",
      "5  doesn't have kids, but might want them                 likes cats   \n",
      "6                                     NaN  likes dogs and likes cats   \n",
      "7       doesn't have kids, but wants them  likes dogs and likes cats   \n",
      "8                       doesn't have kids  likes dogs and likes cats   \n",
      "9                                     NaN  likes dogs and likes cats   \n",
      "\n",
      "                                    religion  \\\n",
      "0      agnosticism and very serious about it   \n",
      "1   agnosticism but not too serious about it   \n",
      "2                                        NaN   \n",
      "3                                        NaN   \n",
      "4                                        NaN   \n",
      "5                                    atheism   \n",
      "6                                        NaN   \n",
      "7                               christianity   \n",
      "8  christianity but not too serious about it   \n",
      "9              atheism and laughing about it   \n",
      "\n",
      "                                 sign         smokes  \\\n",
      "0                              gemini      sometimes   \n",
      "1                              cancer             no   \n",
      "2  pisces but it doesn&rsquo;t matter             no   \n",
      "3                              pisces             no   \n",
      "4                            aquarius             no   \n",
      "5                              taurus             no   \n",
      "6                               virgo            NaN   \n",
      "7                         sagittarius             no   \n",
      "8  gemini but it doesn&rsquo;t matter  when drinking   \n",
      "9  cancer but it doesn&rsquo;t matter             no   \n",
      "\n",
      "                                              speaks  \\\n",
      "0                                            english   \n",
      "1  english (fluently), spanish (poorly), french (...   \n",
      "2                               english, french, c++   \n",
      "3                           english, german (poorly)   \n",
      "4                                            english   \n",
      "5                 english (fluently), chinese (okay)   \n",
      "6                                            english   \n",
      "7                            english, spanish (okay)   \n",
      "8                                            english   \n",
      "9                                 english (fluently)   \n",
      "\n",
      "                                              essay0  \\\n",
      "0  about me:  i would love to think that i was so...   \n",
      "1  i am a chef: this is what that means. 1. i am ...   \n",
      "2  i'm not ashamed of much, but writing public te...   \n",
      "3          i work in a library and go to school. . .   \n",
      "4  hey how's it going? currently vague on the pro...   \n",
      "5  i'm an australian living in san francisco, but...   \n",
      "6  life is about the little things. i love to lau...   \n",
      "7                                                NaN   \n",
      "8                                                NaN   \n",
      "9  my names jake. i'm a creative guy and i look f...   \n",
      "\n",
      "                                              essay1  \\\n",
      "0  currently working as an international agent fo...   \n",
      "1  dedicating everyday to being an unbelievable b...   \n",
      "2  i make nerdy software for musicians, artists, ...   \n",
      "3          reading things written by old dead people   \n",
      "4                         work work work work + play   \n",
      "5  building awesome stuff. figuring out what's im...   \n",
      "6                         digging up buried treasure   \n",
      "7  writing. meeting new people, spending time wit...   \n",
      "8  oh goodness. at the moment i have 4 jobs, so i...   \n",
      "9  i have an apartment. i like to explore and che...   \n",
      "\n",
      "                                              essay2  \\\n",
      "0  making people laugh. ranting about a good salt...   \n",
      "1  being silly. having ridiculous amonts of fun w...   \n",
      "2  improvising in different contexts. alternating...   \n",
      "3  playing synthesizers and organizing books acco...   \n",
      "4  creating imagery to look at: http://bagsbrown....   \n",
      "5  imagining random shit. laughing at aforementio...   \n",
      "6  frolicking witty banter using my camera to ext...   \n",
      "7  remembering people's birthdays, sending cards,...   \n",
      "8                                                NaN   \n",
      "9  i'm good at finding creative solutions to prob...   \n",
      "\n",
      "                                              essay3  \\\n",
      "0  the way i look. i am a six foot half asian, ha...   \n",
      "1                                                NaN   \n",
      "2  my large jaw and large glasses are the physica...   \n",
      "3                  socially awkward but i do my best   \n",
      "4            i smile a lot and my inquisitive nature   \n",
      "5  i have a big smile. i also get asked if i'm we...   \n",
      "6                              i am the last unicorn   \n",
      "7  i'm rather approachable (a byproduct of being ...   \n",
      "8  i'm freakishly blonde and have the same name a...   \n",
      "9                                          i'm short   \n",
      "\n",
      "                                              essay4  \\\n",
      "0  books: absurdistan, the republic, of mice and ...   \n",
      "1  i am die hard christopher moore fan. i don't r...   \n",
      "2  okay this is where the cultural matrix gets so...   \n",
      "3  bataille, celine, beckett. . . lynch, jarmusch...   \n",
      "4  music: bands, rappers, musicians at the moment...   \n",
      "5  books: to kill a mockingbird, lord of the ring...   \n",
      "6  i like books. ones with pictures. reading them...   \n",
      "7  i like: alphabetized lists, aquariums, autobio...   \n",
      "8  i am always willing to try new foods and am no...   \n",
      "9  i like some tv. i love summer heights high and...   \n",
      "\n",
      "                                              essay5  \\\n",
      "0                  food. water. cell phone. shelter.   \n",
      "1  delicious porkness in all of its glories. my b...   \n",
      "2  movement conversation creation contemplation t...   \n",
      "3                                                NaN   \n",
      "4                                                NaN   \n",
      "5  like everyone else, i love my friends and fami...   \n",
      "6  laughter amazing people in my life color curio...   \n",
      "7  friends, family, notebook/pen, books, music, t...   \n",
      "8  sports/my softball glove coffee. because nobod...   \n",
      "9  music, my guitar contrast good food my bike my...   \n",
      "\n",
      "                                              essay6  \\\n",
      "0                        duality and humorous things   \n",
      "1                                                NaN   \n",
      "2                                                NaN   \n",
      "3                         cats and german philosophy   \n",
      "4                                                NaN   \n",
      "5  what my contribution to the world is going to ...   \n",
      "6  synchronicity  there is this whole other realm...   \n",
      "7                   things that amuse and inspire me   \n",
      "8                                                NaN   \n",
      "9                                         you should   \n",
      "\n",
      "                                              essay7  \\\n",
      "0  trying to find someone to hang out with. i am ...   \n",
      "1                                                NaN   \n",
      "2  viewing. listening. dancing. talking. drinking...   \n",
      "3                                                NaN   \n",
      "4                                                NaN   \n",
      "5                               out with my friends!   \n",
      "6  plotting to take over the world with my army o...   \n",
      "7  out and about or relaxing at home with a good ...   \n",
      "8  in or out... drinking with friends, maybe a ba...   \n",
      "9                                     send a message   \n",
      "\n",
      "                                              essay8  \\\n",
      "0  i am new to california and looking for someone...   \n",
      "1  i am very open and will share just about anyth...   \n",
      "2  when i was five years old, i was known as \"the...   \n",
      "3                                                NaN   \n",
      "4                                                NaN   \n",
      "5  i cried on my first day at school because a bi...   \n",
      "6                            my typical friday night   \n",
      "7                                                NaN   \n",
      "8  potential friends/lovers/people who come in co...   \n",
      "9                                        and say hi.   \n",
      "\n",
      "                                              essay9  \n",
      "0  you want to be swept off your feet! you are ti...  \n",
      "1                                                NaN  \n",
      "2  you are bright, open, intense, silly, ironic, ...  \n",
      "3                              you feel so inclined.  \n",
      "4                                                NaN  \n",
      "5                                    you're awesome.  \n",
      "6                                                NaN  \n",
      "7                                                NaN  \n",
      "8  http://www.youtube.com/watch?v=4dxbwzuwsxk let...  \n",
      "9                             you can rock the bells  \n"
     ]
    }
   ],
   "source": [
    "pd.set_option('display.max_columns', None) # use this to display ALL columns and not get a ... midway\n",
    "print(okcupid.head((10)))"
   ]
  },
  {
   "cell_type": "code",
   "execution_count": 28,
   "metadata": {},
   "outputs": [
    {
     "data": {
      "text/plain": [
       "(59946, 31)"
      ]
     },
     "execution_count": 28,
     "metadata": {},
     "output_type": "execute_result"
    }
   ],
   "source": [
    "okcupid.shape"
   ]
  },
  {
   "attachments": {},
   "cell_type": "markdown",
   "metadata": {},
   "source": [
    "This set has 59946 rows and 31 columns"
   ]
  },
  {
   "attachments": {},
   "cell_type": "markdown",
   "metadata": {},
   "source": [
    "## Duplicates check"
   ]
  },
  {
   "cell_type": "code",
   "execution_count": 29,
   "metadata": {},
   "outputs": [
    {
     "name": "stdout",
     "output_type": "stream",
     "text": [
      "False    59946\n",
      "dtype: int64\n"
     ]
    }
   ],
   "source": [
    "duplicates = okcupid.duplicated()\n",
    "print(duplicates.value_counts())"
   ]
  },
  {
   "attachments": {},
   "cell_type": "markdown",
   "metadata": {},
   "source": [
    "The number of false duplicates equals the number of rows - i.e. there are no dupicated rows"
   ]
  },
  {
   "attachments": {},
   "cell_type": "markdown",
   "metadata": {},
   "source": [
    "## Tidying/Wrangling"
   ]
  },
  {
   "cell_type": "code",
   "execution_count": 30,
   "metadata": {},
   "outputs": [
    {
     "name": "stdout",
     "output_type": "stream",
     "text": [
      "Index(['age', 'status', 'sex', 'orientation', 'body_type', 'diet', 'drinks',\n",
      "       'drugs', 'education', 'ethnicity', 'height', 'income', 'job',\n",
      "       'last_online', 'location', 'offspring', 'pets', 'religion', 'sign',\n",
      "       'smokes', 'speaks', 'essay0', 'essay1', 'essay2', 'essay3', 'essay4',\n",
      "       'essay5', 'essay6', 'essay7', 'essay8', 'essay9'],\n",
      "      dtype='object')\n"
     ]
    }
   ],
   "source": [
    "print(okcupid.columns)"
   ]
  },
  {
   "cell_type": "code",
   "execution_count": 64,
   "metadata": {},
   "outputs": [
    {
     "name": "stdout",
     "output_type": "stream",
     "text": [
      "<class 'pandas.core.frame.DataFrame'>\n",
      "RangeIndex: 59946 entries, 0 to 59945\n",
      "Data columns (total 31 columns):\n",
      " #   Column       Non-Null Count  Dtype  \n",
      "---  ------       --------------  -----  \n",
      " 0   age          59946 non-null  int64  \n",
      " 1   status       59946 non-null  object \n",
      " 2   sex          59946 non-null  object \n",
      " 3   orientation  59946 non-null  object \n",
      " 4   body_type    54650 non-null  object \n",
      " 5   diet         35551 non-null  object \n",
      " 6   drinks       56961 non-null  object \n",
      " 7   drugs        45866 non-null  object \n",
      " 8   education    53318 non-null  object \n",
      " 9   ethnicity    54266 non-null  object \n",
      " 10  height       59943 non-null  float64\n",
      " 11  income       59946 non-null  int64  \n",
      " 12  job          51748 non-null  object \n",
      " 13  last_online  59946 non-null  object \n",
      " 14  location     59946 non-null  object \n",
      " 15  offspring    24385 non-null  object \n",
      " 16  pets         40025 non-null  object \n",
      " 17  religion     39720 non-null  object \n",
      " 18  sign         48890 non-null  object \n",
      " 19  smokes       54434 non-null  object \n",
      " 20  speaks       59896 non-null  object \n",
      " 21  essay0       54458 non-null  object \n",
      " 22  essay1       52374 non-null  object \n",
      " 23  essay2       50308 non-null  object \n",
      " 24  essay3       48470 non-null  object \n",
      " 25  essay4       49409 non-null  object \n",
      " 26  essay5       49096 non-null  object \n",
      " 27  essay6       46175 non-null  object \n",
      " 28  essay7       47495 non-null  object \n",
      " 29  essay8       40721 non-null  object \n",
      " 30  essay9       47343 non-null  object \n",
      "dtypes: float64(1), int64(2), object(28)\n",
      "memory usage: 14.2+ MB\n"
     ]
    }
   ],
   "source": [
    "okcupid_variables = pd.DataFrame(okcupid.info())\n",
    "\n",
    "# okcupid_variables = pd.DataFrame(okcupid.info()) #converted to a DataFrame to send to an Excel file\n"
   ]
  },
  {
   "attachments": {},
   "cell_type": "markdown",
   "metadata": {},
   "source": [
    "As there are alot of variables to consider types and further actions for, I'd like to track these in an Excel sheet\n",
    "To do this, I plan on exporting okcupid.info() to an Excel sheet directly"
   ]
  },
  {
   "cell_type": "code",
   "execution_count": 57,
   "metadata": {},
   "outputs": [],
   "source": [
    "#from xlsxwriter import Workbook\n",
    "#okcupid_variables.to_excel('okcupid_variables.xlsx', engine='xlsxwriter')\n",
    "#okcupid_variables.to_csv('okcupid_variables.csv', sep=',', header=True) # works but loses all the data"
   ]
  },
  {
   "cell_type": "code",
   "execution_count": 63,
   "metadata": {},
   "outputs": [
    {
     "name": "stdout",
     "output_type": "stream",
     "text": [
      "Empty DataFrame\n",
      "Columns: []\n",
      "Index: []\n"
     ]
    }
   ],
   "source": [
    "#print(okcupid_variables.head()) # shows okcupid_variables is actually empty, so I didnt lose data in the CSV there just isnt any"
   ]
  },
  {
   "attachments": {},
   "cell_type": "markdown",
   "metadata": {},
   "source": [
    "This is something I want to keep in mind but will shelve for now as it'll take me more time to learn than save me at the moment.\n",
    "\n",
    "Next I'll inspect each variable"
   ]
  },
  {
   "attachments": {},
   "cell_type": "markdown",
   "metadata": {},
   "source": [
    "0 'age' appears complete with Dtype int64 - ready to investiagte numerically\n",
    "1 'status' - complete, object - check the unique types with .value_counts()\n",
    "2 & 3 'sex' & 'orientation' - complete, object - check the unique types with .value_counts()\n",
    "\n",
    "4 'body_type' - 54650 entries, therefore incomplete - check the unique types with .value_counts()\n",
    "5 'diet' - 35551 - .value_counts()\n"
   ]
  },
  {
   "cell_type": "code",
   "execution_count": 65,
   "metadata": {},
   "outputs": [
    {
     "data": {
      "text/plain": [
       "single            55697\n",
       "seeing someone     2064\n",
       "available          1865\n",
       "married             310\n",
       "unknown              10\n",
       "Name: status, dtype: int64"
      ]
     },
     "execution_count": 65,
     "metadata": {},
     "output_type": "execute_result"
    }
   ],
   "source": [
    "okcupid.status.value_counts()"
   ]
  },
  {
   "attachments": {},
   "cell_type": "markdown",
   "metadata": {},
   "source": [
    "'Status' is Relationship Status.\n",
    "Categories are:\n",
    "* Single\n",
    "* Seeing somone\n",
    "* Available\n",
    "* Married\n",
    "* Unknown - this one needs further investigation: unknown as in profile hasn't added their status? (from code snippet below I'd say yes)"
   ]
  },
  {
   "cell_type": "code",
   "execution_count": 73,
   "metadata": {},
   "outputs": [],
   "source": [
    "#status_unknowns = okcupid[okcupid.status=='unknown']\n",
    "#print(status_unknowns)\n",
    "#print(len(status_unknowns))\n"
   ]
  },
  {
   "cell_type": "code",
   "execution_count": 74,
   "metadata": {},
   "outputs": [
    {
     "data": {
      "text/plain": [
       "m    35829\n",
       "f    24117\n",
       "Name: sex, dtype: int64"
      ]
     },
     "execution_count": 74,
     "metadata": {},
     "output_type": "execute_result"
    }
   ],
   "source": [
    "okcupid.sex.value_counts()"
   ]
  },
  {
   "attachments": {},
   "cell_type": "markdown",
   "metadata": {},
   "source": [
    "Sex is only in two vales: 'm' or 'f'"
   ]
  },
  {
   "cell_type": "code",
   "execution_count": 76,
   "metadata": {},
   "outputs": [
    {
     "data": {
      "text/plain": [
       "straight    51606\n",
       "gay          5573\n",
       "bisexual     2767\n",
       "Name: orientation, dtype: int64"
      ]
     },
     "execution_count": 76,
     "metadata": {},
     "output_type": "execute_result"
    }
   ],
   "source": [
    "okcupid.orientation.value_counts()"
   ]
  },
  {
   "attachments": {},
   "cell_type": "markdown",
   "metadata": {},
   "source": [
    "Orientation is 'straight', 'gay' and 'bisexual'\n",
    "Seen here large majority is straight, followed by gay then bisexual"
   ]
  },
  {
   "cell_type": "code",
   "execution_count": 77,
   "metadata": {},
   "outputs": [
    {
     "data": {
      "text/plain": [
       "average           14652\n",
       "fit               12711\n",
       "athletic          11819\n",
       "thin               4711\n",
       "curvy              3924\n",
       "a little extra     2629\n",
       "skinny             1777\n",
       "full figured       1009\n",
       "overweight          444\n",
       "jacked              421\n",
       "used up             355\n",
       "rather not say      198\n",
       "Name: body_type, dtype: int64"
      ]
     },
     "execution_count": 77,
     "metadata": {},
     "output_type": "execute_result"
    }
   ],
   "source": [
    "okcupid.body_type.value_counts()"
   ]
  },
  {
   "attachments": {},
   "cell_type": "markdown",
   "metadata": {},
   "source": [
    "average           14652, \n",
    "fit               12711, \n",
    "athletic          11819, \n",
    "thin               4711, \n",
    "curvy              3924, \n",
    "a little extra     2629, \n",
    "skinny             1777, \n",
    "full figured       1009, \n",
    "overweight          444, \n",
    "jacked              421, \n",
    "used up             355, \n",
    "rather not say      198"
   ]
  },
  {
   "cell_type": "code",
   "execution_count": null,
   "metadata": {},
   "outputs": [],
   "source": []
  },
  {
   "cell_type": "code",
   "execution_count": 61,
   "metadata": {},
   "outputs": [],
   "source": [
    "#okcupid.dtypes # done in .info()\n"
   ]
  },
  {
   "cell_type": "code",
   "execution_count": 58,
   "metadata": {},
   "outputs": [],
   "source": [
    "#okcupid.describe()"
   ]
  },
  {
   "cell_type": "code",
   "execution_count": null,
   "metadata": {},
   "outputs": [],
   "source": []
  }
 ],
 "metadata": {
  "kernelspec": {
   "display_name": "Python 3",
   "language": "python",
   "name": "python3"
  },
  "language_info": {
   "codemirror_mode": {
    "name": "ipython",
    "version": 3
   },
   "file_extension": ".py",
   "mimetype": "text/x-python",
   "name": "python",
   "nbconvert_exporter": "python",
   "pygments_lexer": "ipython3",
   "version": "3.10.5"
  },
  "orig_nbformat": 4,
  "vscode": {
   "interpreter": {
    "hash": "a42ccb73e7d9bfdf27e036f1d2b8b681e55fc0743cc5586bc2474d4a60f4b886"
   }
  }
 },
 "nbformat": 4,
 "nbformat_minor": 2
}
