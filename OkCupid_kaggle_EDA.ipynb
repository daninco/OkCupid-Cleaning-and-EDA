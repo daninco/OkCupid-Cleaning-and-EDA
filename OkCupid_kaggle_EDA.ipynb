{
 "cells": [
  {
   "attachments": {},
   "cell_type": "markdown",
   "metadata": {},
   "source": [
    "# Ok Cupid Dataset EDA"
   ]
  },
  {
   "attachments": {},
   "cell_type": "markdown",
   "metadata": {},
   "source": [
    "This dataset was picked on the name alone to do an initial clean and EDA.\n",
    "The dataset is completly unfamiliar to me - I want to practice familiarising myself with the set and seeing what I can learn about it, to see what further investigation can stem from it. "
   ]
  },
  {
   "cell_type": "code",
   "execution_count": 6,
   "metadata": {},
   "outputs": [],
   "source": [
    "# initial imports and check file is readable\n",
    "import pandas as pd\n",
    "okcupid = pd.read_csv('OkCupid_kaggle_dataset.zip')\n"
   ]
  },
  {
   "cell_type": "code",
   "execution_count": 7,
   "metadata": {},
   "outputs": [
    {
     "name": "stdout",
     "output_type": "stream",
     "text": [
      "   age     status sex orientation       body_type               diet  \\\n",
      "0   22     single   m    straight  a little extra  strictly anything   \n",
      "1   35     single   m    straight         average       mostly other   \n",
      "2   38  available   m    straight            thin           anything   \n",
      "3   23     single   m    straight            thin         vegetarian   \n",
      "4   29     single   m    straight        athletic                NaN   \n",
      "5   29     single   m    straight         average    mostly anything   \n",
      "6   32     single   f    straight             fit  strictly anything   \n",
      "7   31     single   f    straight         average    mostly anything   \n",
      "8   24     single   f    straight             NaN  strictly anything   \n",
      "9   37     single   m    straight        athletic    mostly anything   \n",
      "\n",
      "       drinks      drugs                          education  \\\n",
      "0    socially      never      working on college/university   \n",
      "1       often  sometimes              working on space camp   \n",
      "2    socially        NaN     graduated from masters program   \n",
      "3    socially        NaN      working on college/university   \n",
      "4    socially      never  graduated from college/university   \n",
      "5    socially        NaN  graduated from college/university   \n",
      "6    socially      never  graduated from college/university   \n",
      "7    socially      never  graduated from college/university   \n",
      "8    socially        NaN  graduated from college/university   \n",
      "9  not at all      never        working on two-year college   \n",
      "\n",
      "             ethnicity  ...  \\\n",
      "0         asian, white  ...   \n",
      "1                white  ...   \n",
      "2                  NaN  ...   \n",
      "3                white  ...   \n",
      "4  asian, black, other  ...   \n",
      "5                white  ...   \n",
      "6         white, other  ...   \n",
      "7                white  ...   \n",
      "8                white  ...   \n",
      "9                white  ...   \n",
      "\n",
      "                                              essay0  \\\n",
      "0  about me:  i would love to think that i was so...   \n",
      "1  i am a chef: this is what that means. 1. i am ...   \n",
      "2  i'm not ashamed of much, but writing public te...   \n",
      "3          i work in a library and go to school. . .   \n",
      "4  hey how's it going? currently vague on the pro...   \n",
      "5  i'm an australian living in san francisco, but...   \n",
      "6  life is about the little things. i love to lau...   \n",
      "7                                                NaN   \n",
      "8                                                NaN   \n",
      "9  my names jake. i'm a creative guy and i look f...   \n",
      "\n",
      "                                              essay1  \\\n",
      "0  currently working as an international agent fo...   \n",
      "1  dedicating everyday to being an unbelievable b...   \n",
      "2  i make nerdy software for musicians, artists, ...   \n",
      "3          reading things written by old dead people   \n",
      "4                         work work work work + play   \n",
      "5  building awesome stuff. figuring out what's im...   \n",
      "6                         digging up buried treasure   \n",
      "7  writing. meeting new people, spending time wit...   \n",
      "8  oh goodness. at the moment i have 4 jobs, so i...   \n",
      "9  i have an apartment. i like to explore and che...   \n",
      "\n",
      "                                              essay2  \\\n",
      "0  making people laugh. ranting about a good salt...   \n",
      "1  being silly. having ridiculous amonts of fun w...   \n",
      "2  improvising in different contexts. alternating...   \n",
      "3  playing synthesizers and organizing books acco...   \n",
      "4  creating imagery to look at: http://bagsbrown....   \n",
      "5  imagining random shit. laughing at aforementio...   \n",
      "6  frolicking witty banter using my camera to ext...   \n",
      "7  remembering people's birthdays, sending cards,...   \n",
      "8                                                NaN   \n",
      "9  i'm good at finding creative solutions to prob...   \n",
      "\n",
      "                                              essay3  \\\n",
      "0  the way i look. i am a six foot half asian, ha...   \n",
      "1                                                NaN   \n",
      "2  my large jaw and large glasses are the physica...   \n",
      "3                  socially awkward but i do my best   \n",
      "4            i smile a lot and my inquisitive nature   \n",
      "5  i have a big smile. i also get asked if i'm we...   \n",
      "6                              i am the last unicorn   \n",
      "7  i'm rather approachable (a byproduct of being ...   \n",
      "8  i'm freakishly blonde and have the same name a...   \n",
      "9                                          i'm short   \n",
      "\n",
      "                                              essay4  \\\n",
      "0  books: absurdistan, the republic, of mice and ...   \n",
      "1  i am die hard christopher moore fan. i don't r...   \n",
      "2  okay this is where the cultural matrix gets so...   \n",
      "3  bataille, celine, beckett. . . lynch, jarmusch...   \n",
      "4  music: bands, rappers, musicians at the moment...   \n",
      "5  books: to kill a mockingbird, lord of the ring...   \n",
      "6  i like books. ones with pictures. reading them...   \n",
      "7  i like: alphabetized lists, aquariums, autobio...   \n",
      "8  i am always willing to try new foods and am no...   \n",
      "9  i like some tv. i love summer heights high and...   \n",
      "\n",
      "                                              essay5  \\\n",
      "0                  food. water. cell phone. shelter.   \n",
      "1  delicious porkness in all of its glories. my b...   \n",
      "2  movement conversation creation contemplation t...   \n",
      "3                                                NaN   \n",
      "4                                                NaN   \n",
      "5  like everyone else, i love my friends and fami...   \n",
      "6  laughter amazing people in my life color curio...   \n",
      "7  friends, family, notebook/pen, books, music, t...   \n",
      "8  sports/my softball glove coffee. because nobod...   \n",
      "9  music, my guitar contrast good food my bike my...   \n",
      "\n",
      "                                              essay6  \\\n",
      "0                        duality and humorous things   \n",
      "1                                                NaN   \n",
      "2                                                NaN   \n",
      "3                         cats and german philosophy   \n",
      "4                                                NaN   \n",
      "5  what my contribution to the world is going to ...   \n",
      "6  synchronicity  there is this whole other realm...   \n",
      "7                   things that amuse and inspire me   \n",
      "8                                                NaN   \n",
      "9                                         you should   \n",
      "\n",
      "                                              essay7  \\\n",
      "0  trying to find someone to hang out with. i am ...   \n",
      "1                                                NaN   \n",
      "2  viewing. listening. dancing. talking. drinking...   \n",
      "3                                                NaN   \n",
      "4                                                NaN   \n",
      "5                               out with my friends!   \n",
      "6  plotting to take over the world with my army o...   \n",
      "7  out and about or relaxing at home with a good ...   \n",
      "8  in or out... drinking with friends, maybe a ba...   \n",
      "9                                     send a message   \n",
      "\n",
      "                                              essay8  \\\n",
      "0  i am new to california and looking for someone...   \n",
      "1  i am very open and will share just about anyth...   \n",
      "2  when i was five years old, i was known as \"the...   \n",
      "3                                                NaN   \n",
      "4                                                NaN   \n",
      "5  i cried on my first day at school because a bi...   \n",
      "6                            my typical friday night   \n",
      "7                                                NaN   \n",
      "8  potential friends/lovers/people who come in co...   \n",
      "9                                        and say hi.   \n",
      "\n",
      "                                              essay9  \n",
      "0  you want to be swept off your feet! you are ti...  \n",
      "1                                                NaN  \n",
      "2  you are bright, open, intense, silly, ironic, ...  \n",
      "3                              you feel so inclined.  \n",
      "4                                                NaN  \n",
      "5                                    you're awesome.  \n",
      "6                                                NaN  \n",
      "7                                                NaN  \n",
      "8  http://www.youtube.com/watch?v=4dxbwzuwsxk let...  \n",
      "9                             you can rock the bells  \n",
      "\n",
      "[10 rows x 31 columns]\n"
     ]
    }
   ],
   "source": [
    "print(okcupid.head((10)))"
   ]
  },
  {
   "cell_type": "code",
   "execution_count": 2,
   "metadata": {},
   "outputs": [
    {
     "data": {
      "text/plain": [
       "(59946, 31)"
      ]
     },
     "execution_count": 2,
     "metadata": {},
     "output_type": "execute_result"
    }
   ],
   "source": [
    "okcupid.shape"
   ]
  },
  {
   "attachments": {},
   "cell_type": "markdown",
   "metadata": {},
   "source": [
    "This set has 59946 rows and 31 columns"
   ]
  },
  {
   "attachments": {},
   "cell_type": "markdown",
   "metadata": {},
   "source": [
    "## Duplicates check"
   ]
  },
  {
   "cell_type": "code",
   "execution_count": 11,
   "metadata": {},
   "outputs": [
    {
     "name": "stdout",
     "output_type": "stream",
     "text": [
      "False    59946\n",
      "dtype: int64\n"
     ]
    }
   ],
   "source": [
    "duplicates = okcupid.duplicated()\n",
    "print(duplicates.value_counts())"
   ]
  },
  {
   "attachments": {},
   "cell_type": "markdown",
   "metadata": {},
   "source": [
    "The number of false duplicates equals the number of rows - i.e. there are no dupicated rows"
   ]
  }
 ],
 "metadata": {
  "kernelspec": {
   "display_name": "Python 3",
   "language": "python",
   "name": "python3"
  },
  "language_info": {
   "codemirror_mode": {
    "name": "ipython",
    "version": 3
   },
   "file_extension": ".py",
   "mimetype": "text/x-python",
   "name": "python",
   "nbconvert_exporter": "python",
   "pygments_lexer": "ipython3",
   "version": "3.10.5"
  },
  "orig_nbformat": 4,
  "vscode": {
   "interpreter": {
    "hash": "a42ccb73e7d9bfdf27e036f1d2b8b681e55fc0743cc5586bc2474d4a60f4b886"
   }
  }
 },
 "nbformat": 4,
 "nbformat_minor": 2
}
