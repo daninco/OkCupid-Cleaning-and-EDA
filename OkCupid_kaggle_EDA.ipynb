{
 "cells": [
  {
   "attachments": {},
   "cell_type": "markdown",
   "metadata": {},
   "source": [
    "# Ok Cupid Dataset EDA"
   ]
  },
  {
   "attachments": {},
   "cell_type": "markdown",
   "metadata": {},
   "source": [
    "This dataset was picked on the name alone to do an initial clean and EDA.\n",
    "The dataset is completly unfamiliar to me - I want to practice familiarising myself with the set and seeing what I can learn about it, to see what further investigation can stem from it. "
   ]
  },
  {
   "cell_type": "code",
   "execution_count": 103,
   "metadata": {},
   "outputs": [],
   "source": [
    "# initial imports and check file is readable\n",
    "import pandas as pd\n",
    "okcupid = pd.read_csv('OkCupid_kaggle_dataset.zip')\n"
   ]
  },
  {
   "cell_type": "code",
   "execution_count": 104,
   "metadata": {},
   "outputs": [
    {
     "name": "stdout",
     "output_type": "stream",
     "text": [
      "   age     status sex orientation       body_type               diet  \\\n",
      "0   22     single   m    straight  a little extra  strictly anything   \n",
      "1   35     single   m    straight         average       mostly other   \n",
      "2   38  available   m    straight            thin           anything   \n",
      "3   23     single   m    straight            thin         vegetarian   \n",
      "4   29     single   m    straight        athletic                NaN   \n",
      "5   29     single   m    straight         average    mostly anything   \n",
      "6   32     single   f    straight             fit  strictly anything   \n",
      "7   31     single   f    straight         average    mostly anything   \n",
      "8   24     single   f    straight             NaN  strictly anything   \n",
      "9   37     single   m    straight        athletic    mostly anything   \n",
      "\n",
      "       drinks      drugs                          education  \\\n",
      "0    socially      never      working on college/university   \n",
      "1       often  sometimes              working on space camp   \n",
      "2    socially        NaN     graduated from masters program   \n",
      "3    socially        NaN      working on college/university   \n",
      "4    socially      never  graduated from college/university   \n",
      "5    socially        NaN  graduated from college/university   \n",
      "6    socially      never  graduated from college/university   \n",
      "7    socially      never  graduated from college/university   \n",
      "8    socially        NaN  graduated from college/university   \n",
      "9  not at all      never        working on two-year college   \n",
      "\n",
      "             ethnicity  height  income                             job  \\\n",
      "0         asian, white    75.0      -1                  transportation   \n",
      "1                white    70.0   80000            hospitality / travel   \n",
      "2                  NaN    68.0      -1                             NaN   \n",
      "3                white    71.0   20000                         student   \n",
      "4  asian, black, other    66.0      -1     artistic / musical / writer   \n",
      "5                white    67.0      -1  computer / hardware / software   \n",
      "6         white, other    65.0      -1                             NaN   \n",
      "7                white    65.0      -1     artistic / musical / writer   \n",
      "8                white    67.0      -1                             NaN   \n",
      "9                white    65.0      -1                         student   \n",
      "\n",
      "        last_online                         location  \\\n",
      "0  2012-06-28-20-30  south san francisco, california   \n",
      "1  2012-06-29-21-41              oakland, california   \n",
      "2  2012-06-27-09-10        san francisco, california   \n",
      "3  2012-06-28-14-22             berkeley, california   \n",
      "4  2012-06-27-21-26        san francisco, california   \n",
      "5  2012-06-29-19-18        san francisco, california   \n",
      "6  2012-06-25-20-45        san francisco, california   \n",
      "7  2012-06-29-12-30        san francisco, california   \n",
      "8  2012-06-29-23-39    belvedere tiburon, california   \n",
      "9  2012-06-28-21-08            san mateo, california   \n",
      "\n",
      "                                offspring                       pets  \\\n",
      "0  doesn't have kids, but might want them  likes dogs and likes cats   \n",
      "1  doesn't have kids, but might want them  likes dogs and likes cats   \n",
      "2                                     NaN                   has cats   \n",
      "3                       doesn't want kids                 likes cats   \n",
      "4                                     NaN  likes dogs and likes cats   \n",
      "5  doesn't have kids, but might want them                 likes cats   \n",
      "6                                     NaN  likes dogs and likes cats   \n",
      "7       doesn't have kids, but wants them  likes dogs and likes cats   \n",
      "8                       doesn't have kids  likes dogs and likes cats   \n",
      "9                                     NaN  likes dogs and likes cats   \n",
      "\n",
      "                                    religion  \\\n",
      "0      agnosticism and very serious about it   \n",
      "1   agnosticism but not too serious about it   \n",
      "2                                        NaN   \n",
      "3                                        NaN   \n",
      "4                                        NaN   \n",
      "5                                    atheism   \n",
      "6                                        NaN   \n",
      "7                               christianity   \n",
      "8  christianity but not too serious about it   \n",
      "9              atheism and laughing about it   \n",
      "\n",
      "                                 sign         smokes  \\\n",
      "0                              gemini      sometimes   \n",
      "1                              cancer             no   \n",
      "2  pisces but it doesn&rsquo;t matter             no   \n",
      "3                              pisces             no   \n",
      "4                            aquarius             no   \n",
      "5                              taurus             no   \n",
      "6                               virgo            NaN   \n",
      "7                         sagittarius             no   \n",
      "8  gemini but it doesn&rsquo;t matter  when drinking   \n",
      "9  cancer but it doesn&rsquo;t matter             no   \n",
      "\n",
      "                                              speaks  \\\n",
      "0                                            english   \n",
      "1  english (fluently), spanish (poorly), french (...   \n",
      "2                               english, french, c++   \n",
      "3                           english, german (poorly)   \n",
      "4                                            english   \n",
      "5                 english (fluently), chinese (okay)   \n",
      "6                                            english   \n",
      "7                            english, spanish (okay)   \n",
      "8                                            english   \n",
      "9                                 english (fluently)   \n",
      "\n",
      "                                              essay0  \\\n",
      "0  about me:  i would love to think that i was so...   \n",
      "1  i am a chef: this is what that means. 1. i am ...   \n",
      "2  i'm not ashamed of much, but writing public te...   \n",
      "3          i work in a library and go to school. . .   \n",
      "4  hey how's it going? currently vague on the pro...   \n",
      "5  i'm an australian living in san francisco, but...   \n",
      "6  life is about the little things. i love to lau...   \n",
      "7                                                NaN   \n",
      "8                                                NaN   \n",
      "9  my names jake. i'm a creative guy and i look f...   \n",
      "\n",
      "                                              essay1  \\\n",
      "0  currently working as an international agent fo...   \n",
      "1  dedicating everyday to being an unbelievable b...   \n",
      "2  i make nerdy software for musicians, artists, ...   \n",
      "3          reading things written by old dead people   \n",
      "4                         work work work work + play   \n",
      "5  building awesome stuff. figuring out what's im...   \n",
      "6                         digging up buried treasure   \n",
      "7  writing. meeting new people, spending time wit...   \n",
      "8  oh goodness. at the moment i have 4 jobs, so i...   \n",
      "9  i have an apartment. i like to explore and che...   \n",
      "\n",
      "                                              essay2  \\\n",
      "0  making people laugh. ranting about a good salt...   \n",
      "1  being silly. having ridiculous amonts of fun w...   \n",
      "2  improvising in different contexts. alternating...   \n",
      "3  playing synthesizers and organizing books acco...   \n",
      "4  creating imagery to look at: http://bagsbrown....   \n",
      "5  imagining random shit. laughing at aforementio...   \n",
      "6  frolicking witty banter using my camera to ext...   \n",
      "7  remembering people's birthdays, sending cards,...   \n",
      "8                                                NaN   \n",
      "9  i'm good at finding creative solutions to prob...   \n",
      "\n",
      "                                              essay3  \\\n",
      "0  the way i look. i am a six foot half asian, ha...   \n",
      "1                                                NaN   \n",
      "2  my large jaw and large glasses are the physica...   \n",
      "3                  socially awkward but i do my best   \n",
      "4            i smile a lot and my inquisitive nature   \n",
      "5  i have a big smile. i also get asked if i'm we...   \n",
      "6                              i am the last unicorn   \n",
      "7  i'm rather approachable (a byproduct of being ...   \n",
      "8  i'm freakishly blonde and have the same name a...   \n",
      "9                                          i'm short   \n",
      "\n",
      "                                              essay4  \\\n",
      "0  books: absurdistan, the republic, of mice and ...   \n",
      "1  i am die hard christopher moore fan. i don't r...   \n",
      "2  okay this is where the cultural matrix gets so...   \n",
      "3  bataille, celine, beckett. . . lynch, jarmusch...   \n",
      "4  music: bands, rappers, musicians at the moment...   \n",
      "5  books: to kill a mockingbird, lord of the ring...   \n",
      "6  i like books. ones with pictures. reading them...   \n",
      "7  i like: alphabetized lists, aquariums, autobio...   \n",
      "8  i am always willing to try new foods and am no...   \n",
      "9  i like some tv. i love summer heights high and...   \n",
      "\n",
      "                                              essay5  \\\n",
      "0                  food. water. cell phone. shelter.   \n",
      "1  delicious porkness in all of its glories. my b...   \n",
      "2  movement conversation creation contemplation t...   \n",
      "3                                                NaN   \n",
      "4                                                NaN   \n",
      "5  like everyone else, i love my friends and fami...   \n",
      "6  laughter amazing people in my life color curio...   \n",
      "7  friends, family, notebook/pen, books, music, t...   \n",
      "8  sports/my softball glove coffee. because nobod...   \n",
      "9  music, my guitar contrast good food my bike my...   \n",
      "\n",
      "                                              essay6  \\\n",
      "0                        duality and humorous things   \n",
      "1                                                NaN   \n",
      "2                                                NaN   \n",
      "3                         cats and german philosophy   \n",
      "4                                                NaN   \n",
      "5  what my contribution to the world is going to ...   \n",
      "6  synchronicity  there is this whole other realm...   \n",
      "7                   things that amuse and inspire me   \n",
      "8                                                NaN   \n",
      "9                                         you should   \n",
      "\n",
      "                                              essay7  \\\n",
      "0  trying to find someone to hang out with. i am ...   \n",
      "1                                                NaN   \n",
      "2  viewing. listening. dancing. talking. drinking...   \n",
      "3                                                NaN   \n",
      "4                                                NaN   \n",
      "5                               out with my friends!   \n",
      "6  plotting to take over the world with my army o...   \n",
      "7  out and about or relaxing at home with a good ...   \n",
      "8  in or out... drinking with friends, maybe a ba...   \n",
      "9                                     send a message   \n",
      "\n",
      "                                              essay8  \\\n",
      "0  i am new to california and looking for someone...   \n",
      "1  i am very open and will share just about anyth...   \n",
      "2  when i was five years old, i was known as \"the...   \n",
      "3                                                NaN   \n",
      "4                                                NaN   \n",
      "5  i cried on my first day at school because a bi...   \n",
      "6                            my typical friday night   \n",
      "7                                                NaN   \n",
      "8  potential friends/lovers/people who come in co...   \n",
      "9                                        and say hi.   \n",
      "\n",
      "                                              essay9  \n",
      "0  you want to be swept off your feet! you are ti...  \n",
      "1                                                NaN  \n",
      "2  you are bright, open, intense, silly, ironic, ...  \n",
      "3                              you feel so inclined.  \n",
      "4                                                NaN  \n",
      "5                                    you're awesome.  \n",
      "6                                                NaN  \n",
      "7                                                NaN  \n",
      "8  http://www.youtube.com/watch?v=4dxbwzuwsxk let...  \n",
      "9                             you can rock the bells  \n"
     ]
    }
   ],
   "source": [
    "pd.set_option('display.max_columns', None) # use this to display ALL columns and not get a ... midway\n",
    "print(okcupid.head((10)))"
   ]
  },
  {
   "cell_type": "code",
   "execution_count": 105,
   "metadata": {},
   "outputs": [
    {
     "data": {
      "text/plain": [
       "(59946, 31)"
      ]
     },
     "execution_count": 105,
     "metadata": {},
     "output_type": "execute_result"
    }
   ],
   "source": [
    "okcupid.shape"
   ]
  },
  {
   "attachments": {},
   "cell_type": "markdown",
   "metadata": {},
   "source": [
    "This set has 59946 rows and 31 columns"
   ]
  },
  {
   "attachments": {},
   "cell_type": "markdown",
   "metadata": {},
   "source": [
    "## Duplicates check"
   ]
  },
  {
   "cell_type": "code",
   "execution_count": 106,
   "metadata": {},
   "outputs": [
    {
     "name": "stdout",
     "output_type": "stream",
     "text": [
      "False    59946\n",
      "dtype: int64\n"
     ]
    }
   ],
   "source": [
    "duplicates = okcupid.duplicated()\n",
    "print(duplicates.value_counts())"
   ]
  },
  {
   "attachments": {},
   "cell_type": "markdown",
   "metadata": {},
   "source": [
    "The number of false duplicates equals the number of rows - i.e. there are no dupicated rows"
   ]
  },
  {
   "attachments": {},
   "cell_type": "markdown",
   "metadata": {},
   "source": [
    "## Tidying/Wrangling"
   ]
  },
  {
   "cell_type": "code",
   "execution_count": 107,
   "metadata": {},
   "outputs": [
    {
     "name": "stdout",
     "output_type": "stream",
     "text": [
      "Index(['age', 'status', 'sex', 'orientation', 'body_type', 'diet', 'drinks',\n",
      "       'drugs', 'education', 'ethnicity', 'height', 'income', 'job',\n",
      "       'last_online', 'location', 'offspring', 'pets', 'religion', 'sign',\n",
      "       'smokes', 'speaks', 'essay0', 'essay1', 'essay2', 'essay3', 'essay4',\n",
      "       'essay5', 'essay6', 'essay7', 'essay8', 'essay9'],\n",
      "      dtype='object')\n"
     ]
    }
   ],
   "source": [
    "print(okcupid.columns)"
   ]
  },
  {
   "cell_type": "code",
   "execution_count": 108,
   "metadata": {},
   "outputs": [
    {
     "name": "stdout",
     "output_type": "stream",
     "text": [
      "<class 'pandas.core.frame.DataFrame'>\n",
      "RangeIndex: 59946 entries, 0 to 59945\n",
      "Data columns (total 31 columns):\n",
      " #   Column       Non-Null Count  Dtype  \n",
      "---  ------       --------------  -----  \n",
      " 0   age          59946 non-null  int64  \n",
      " 1   status       59946 non-null  object \n",
      " 2   sex          59946 non-null  object \n",
      " 3   orientation  59946 non-null  object \n",
      " 4   body_type    54650 non-null  object \n",
      " 5   diet         35551 non-null  object \n",
      " 6   drinks       56961 non-null  object \n",
      " 7   drugs        45866 non-null  object \n",
      " 8   education    53318 non-null  object \n",
      " 9   ethnicity    54266 non-null  object \n",
      " 10  height       59943 non-null  float64\n",
      " 11  income       59946 non-null  int64  \n",
      " 12  job          51748 non-null  object \n",
      " 13  last_online  59946 non-null  object \n",
      " 14  location     59946 non-null  object \n",
      " 15  offspring    24385 non-null  object \n",
      " 16  pets         40025 non-null  object \n",
      " 17  religion     39720 non-null  object \n",
      " 18  sign         48890 non-null  object \n",
      " 19  smokes       54434 non-null  object \n",
      " 20  speaks       59896 non-null  object \n",
      " 21  essay0       54458 non-null  object \n",
      " 22  essay1       52374 non-null  object \n",
      " 23  essay2       50308 non-null  object \n",
      " 24  essay3       48470 non-null  object \n",
      " 25  essay4       49409 non-null  object \n",
      " 26  essay5       49096 non-null  object \n",
      " 27  essay6       46175 non-null  object \n",
      " 28  essay7       47495 non-null  object \n",
      " 29  essay8       40721 non-null  object \n",
      " 30  essay9       47343 non-null  object \n",
      "dtypes: float64(1), int64(2), object(28)\n",
      "memory usage: 14.2+ MB\n"
     ]
    }
   ],
   "source": [
    "okcupid_variables = pd.DataFrame(okcupid.info())\n",
    "\n",
    "# okcupid_variables = pd.DataFrame(okcupid.info()) #converted to a DataFrame to send to an Excel file\n"
   ]
  },
  {
   "attachments": {},
   "cell_type": "markdown",
   "metadata": {},
   "source": [
    "As there are alot of variables to consider types and further actions for, I'd like to track these in an Excel sheet\n",
    "To do this, I plan on exporting okcupid.info() to an Excel sheet directly\n"
   ]
  },
  {
   "cell_type": "code",
   "execution_count": 109,
   "metadata": {},
   "outputs": [],
   "source": [
    "#from xlsxwriter import Workbook\n",
    "#okcupid_variables.to_excel('okcupid_variables.xlsx', engine='xlsxwriter')\n",
    "#okcupid_variables.to_csv('okcupid_variables.csv', sep=',', header=True) # works but loses all the data"
   ]
  },
  {
   "cell_type": "code",
   "execution_count": 110,
   "metadata": {},
   "outputs": [],
   "source": [
    "#print(okcupid_variables.head()) # shows okcupid_variables is actually empty, so I didnt lose data in the CSV there just isnt any"
   ]
  },
  {
   "attachments": {},
   "cell_type": "markdown",
   "metadata": {},
   "source": [
    "This is something I want to keep in mind but will shelve for now as it'll take me more time to learn than save me at the moment.\n",
    "\n",
    "Next I'll inspect each variable"
   ]
  },
  {
   "attachments": {},
   "cell_type": "markdown",
   "metadata": {},
   "source": [
    "0 'age' appears complete with Dtype int64 - ready to investiagte numerically\n",
    "1 'status' - complete, object - check the unique types with .value_counts()\n",
    "2 & 3 'sex' & 'orientation' - complete, object - check the unique types with .value_counts()\n",
    "\n",
    "4 'body_type' - 54650 entries, therefore incomplete - check the unique types with .value_counts()\n",
    "5 'diet' - 35551 - .value_counts()\n"
   ]
  },
  {
   "cell_type": "code",
   "execution_count": 111,
   "metadata": {},
   "outputs": [
    {
     "data": {
      "text/plain": [
       "single            55697\n",
       "seeing someone     2064\n",
       "available          1865\n",
       "married             310\n",
       "unknown              10\n",
       "Name: status, dtype: int64"
      ]
     },
     "execution_count": 111,
     "metadata": {},
     "output_type": "execute_result"
    }
   ],
   "source": [
    "okcupid.status.value_counts()"
   ]
  },
  {
   "attachments": {},
   "cell_type": "markdown",
   "metadata": {},
   "source": [
    "'Status' is Relationship Status.\n",
    "Categories are:\n",
    "* Single\n",
    "* Seeing somone\n",
    "* Available\n",
    "* Married\n",
    "* Unknown - this one needs further investigation: unknown as in profile hasn't added their status? (from code snippet below I'd say yes)"
   ]
  },
  {
   "cell_type": "code",
   "execution_count": 112,
   "metadata": {},
   "outputs": [],
   "source": [
    "#status_unknowns = okcupid[okcupid.status=='unknown']\n",
    "#print(status_unknowns)\n",
    "#print(len(status_unknowns))\n"
   ]
  },
  {
   "cell_type": "code",
   "execution_count": 113,
   "metadata": {},
   "outputs": [
    {
     "data": {
      "text/plain": [
       "m    35829\n",
       "f    24117\n",
       "Name: sex, dtype: int64"
      ]
     },
     "execution_count": 113,
     "metadata": {},
     "output_type": "execute_result"
    }
   ],
   "source": [
    "okcupid.sex.value_counts()"
   ]
  },
  {
   "attachments": {},
   "cell_type": "markdown",
   "metadata": {},
   "source": [
    "Sex is only in two vales: 'm' or 'f'"
   ]
  },
  {
   "cell_type": "code",
   "execution_count": 114,
   "metadata": {},
   "outputs": [
    {
     "data": {
      "text/plain": [
       "straight    51606\n",
       "gay          5573\n",
       "bisexual     2767\n",
       "Name: orientation, dtype: int64"
      ]
     },
     "execution_count": 114,
     "metadata": {},
     "output_type": "execute_result"
    }
   ],
   "source": [
    "okcupid.orientation.value_counts()"
   ]
  },
  {
   "attachments": {},
   "cell_type": "markdown",
   "metadata": {},
   "source": [
    "Orientation is 'straight', 'gay' and 'bisexual'\n",
    "Seen here large majority is straight, followed by gay then bisexual"
   ]
  },
  {
   "cell_type": "code",
   "execution_count": 115,
   "metadata": {},
   "outputs": [
    {
     "data": {
      "text/plain": [
       "average           14652\n",
       "fit               12711\n",
       "athletic          11819\n",
       "thin               4711\n",
       "curvy              3924\n",
       "a little extra     2629\n",
       "skinny             1777\n",
       "full figured       1009\n",
       "overweight          444\n",
       "jacked              421\n",
       "used up             355\n",
       "rather not say      198\n",
       "Name: body_type, dtype: int64"
      ]
     },
     "execution_count": 115,
     "metadata": {},
     "output_type": "execute_result"
    }
   ],
   "source": [
    "okcupid.body_type.value_counts()"
   ]
  },
  {
   "attachments": {},
   "cell_type": "markdown",
   "metadata": {},
   "source": [
    "average           14652, \n",
    "fit               12711, \n",
    "athletic          11819, \n",
    "thin               4711, \n",
    "curvy              3924, \n",
    "a little extra     2629, \n",
    "skinny             1777, \n",
    "full figured       1009, \n",
    "overweight          444, \n",
    "jacked              421, \n",
    "used up             355, \n",
    "rather not say      198"
   ]
  },
  {
   "cell_type": "code",
   "execution_count": 116,
   "metadata": {},
   "outputs": [
    {
     "data": {
      "text/plain": [
       "mostly anything        16585\n",
       "anything                6183\n",
       "strictly anything       5113\n",
       "mostly vegetarian       3444\n",
       "mostly other            1007\n",
       "strictly vegetarian      875\n",
       "vegetarian               667\n",
       "strictly other           452\n",
       "mostly vegan             338\n",
       "other                    331\n",
       "strictly vegan           228\n",
       "vegan                    136\n",
       "mostly kosher             86\n",
       "mostly halal              48\n",
       "strictly halal            18\n",
       "strictly kosher           18\n",
       "halal                     11\n",
       "kosher                    11\n",
       "Name: diet, dtype: int64"
      ]
     },
     "execution_count": 116,
     "metadata": {},
     "output_type": "execute_result"
    }
   ],
   "source": [
    "okcupid.diet.value_counts()"
   ]
  },
  {
   "attachments": {},
   "cell_type": "markdown",
   "metadata": {},
   "source": [
    "Variety of diet types, expaned by some having 'mostly...' and 'strictly...' categories"
   ]
  },
  {
   "cell_type": "code",
   "execution_count": 117,
   "metadata": {},
   "outputs": [
    {
     "data": {
      "text/plain": [
       "socially       41780\n",
       "rarely          5957\n",
       "often           5164\n",
       "not at all      3267\n",
       "very often       471\n",
       "desperately      322\n",
       "Name: drinks, dtype: int64"
      ]
     },
     "execution_count": 117,
     "metadata": {},
     "output_type": "execute_result"
    }
   ],
   "source": [
    "okcupid.drinks.value_counts()"
   ]
  },
  {
   "cell_type": "code",
   "execution_count": 118,
   "metadata": {},
   "outputs": [
    {
     "data": {
      "text/plain": [
       "never        37724\n",
       "sometimes     7732\n",
       "often          410\n",
       "Name: drugs, dtype: int64"
      ]
     },
     "execution_count": 118,
     "metadata": {},
     "output_type": "execute_result"
    }
   ],
   "source": [
    "okcupid.drugs.value_counts()"
   ]
  },
  {
   "cell_type": "code",
   "execution_count": 119,
   "metadata": {},
   "outputs": [
    {
     "data": {
      "text/plain": [
       "graduated from college/university    23959\n",
       "graduated from masters program        8961\n",
       "working on college/university         5712\n",
       "working on masters program            1683\n",
       "graduated from two-year college       1531\n",
       "graduated from high school            1428\n",
       "graduated from ph.d program           1272\n",
       "graduated from law school             1122\n",
       "working on two-year college           1074\n",
       "dropped out of college/university      995\n",
       "working on ph.d program                983\n",
       "college/university                     801\n",
       "graduated from space camp              657\n",
       "dropped out of space camp              523\n",
       "graduated from med school              446\n",
       "working on space camp                  445\n",
       "working on law school                  269\n",
       "two-year college                       222\n",
       "working on med school                  212\n",
       "dropped out of two-year college        191\n",
       "dropped out of masters program         140\n",
       "masters program                        136\n",
       "dropped out of ph.d program            127\n",
       "dropped out of high school             102\n",
       "high school                             96\n",
       "working on high school                  87\n",
       "space camp                              58\n",
       "ph.d program                            26\n",
       "law school                              19\n",
       "dropped out of law school               18\n",
       "dropped out of med school               12\n",
       "med school                              11\n",
       "Name: education, dtype: int64"
      ]
     },
     "execution_count": 119,
     "metadata": {},
     "output_type": "execute_result"
    }
   ],
   "source": [
    "okcupid.education.value_counts()"
   ]
  },
  {
   "attachments": {},
   "cell_type": "markdown",
   "metadata": {},
   "source": [
    "33 different categories, ranging from 23959 to 11 entries"
   ]
  },
  {
   "cell_type": "code",
   "execution_count": 120,
   "metadata": {},
   "outputs": [
    {
     "data": {
      "text/plain": [
       "white                                                                 32831\n",
       "asian                                                                  6134\n",
       "hispanic / latin                                                       2823\n",
       "black                                                                  2008\n",
       "other                                                                  1706\n",
       "                                                                      ...  \n",
       "middle eastern, indian, white                                             1\n",
       "asian, middle eastern, black, white, other                                1\n",
       "asian, middle eastern, indian, hispanic / latin, white, other             1\n",
       "black, native american, indian, pacific islander, hispanic / latin        1\n",
       "asian, black, indian                                                      1\n",
       "Name: ethnicity, Length: 217, dtype: int64"
      ]
     },
     "execution_count": 120,
     "metadata": {},
     "output_type": "execute_result"
    }
   ],
   "source": [
    "okcupid.ethnicity.value_counts()"
   ]
  },
  {
   "attachments": {},
   "cell_type": "markdown",
   "metadata": {},
   "source": [
    "217 different values - many mixes of ethnicities "
   ]
  },
  {
   "cell_type": "code",
   "execution_count": 121,
   "metadata": {},
   "outputs": [
    {
     "data": {
      "text/plain": [
       "count    59943.000000\n",
       "mean        68.295281\n",
       "std          3.994803\n",
       "min          1.000000\n",
       "25%         66.000000\n",
       "50%         68.000000\n",
       "75%         71.000000\n",
       "max         95.000000\n",
       "Name: height, dtype: float64"
      ]
     },
     "execution_count": 121,
     "metadata": {},
     "output_type": "execute_result"
    }
   ],
   "source": [
    "okcupid.height.describe()"
   ]
  },
  {
   "cell_type": "code",
   "execution_count": 122,
   "metadata": {},
   "outputs": [
    {
     "data": {
      "text/plain": [
       "1.0"
      ]
     },
     "execution_count": 122,
     "metadata": {},
     "output_type": "execute_result"
    }
   ],
   "source": [
    "okcupid.height.min()"
   ]
  },
  {
   "attachments": {},
   "cell_type": "markdown",
   "metadata": {},
   "source": [
    "Height looks to have some erroneous entries as the min value is 1. \n",
    "\n",
    "Assuming unit to be inches"
   ]
  },
  {
   "cell_type": "code",
   "execution_count": 138,
   "metadata": {},
   "outputs": [
    {
     "name": "stdout",
     "output_type": "stream",
     "text": [
      "7098     36.0\n",
      "7786     43.0\n",
      "12193     8.0\n",
      "12330    36.0\n",
      "18583    36.0\n",
      "18832     3.0\n",
      "20010    36.0\n",
      "20334    42.0\n",
      "22963    36.0\n",
      "23767     6.0\n",
      "26191    47.0\n",
      "27485    49.0\n",
      "29934    48.0\n",
      "30498    36.0\n",
      "31158    36.0\n",
      "36801    37.0\n",
      "37111     9.0\n",
      "44218    37.0\n",
      "45570    36.0\n",
      "45959     1.0\n",
      "47583    43.0\n",
      "47793    36.0\n",
      "48280    26.0\n",
      "49022    48.0\n",
      "55600    36.0\n",
      "56287     4.0\n",
      "57606    36.0\n",
      "Name: height, dtype: float64\n",
      "27\n"
     ]
    }
   ],
   "source": [
    "profile_heights = okcupid[okcupid.height < 50]\n",
    "print(profile_heights.height)\n",
    "print(len(profile_heights))"
   ]
  },
  {
   "cell_type": "code",
   "execution_count": 128,
   "metadata": {},
   "outputs": [],
   "source": [
    "import seaborn as sns\n",
    "import matplotlib.pyplot as plt"
   ]
  },
  {
   "cell_type": "code",
   "execution_count": 139,
   "metadata": {},
   "outputs": [],
   "source": [
    "#sns.histplot(x='height', data=profile_heights)\n",
    "#plt.show()"
   ]
  },
  {
   "attachments": {},
   "cell_type": "markdown",
   "metadata": {},
   "source": [
    "There are 4 entries under 10 inches. Investigate what to do with these results. Look at the rest of their entries"
   ]
  },
  {
   "cell_type": "code",
   "execution_count": 141,
   "metadata": {},
   "outputs": [
    {
     "name": "stdout",
     "output_type": "stream",
     "text": [
      "       age  status sex orientation body_type               diet       drinks  \\\n",
      "12193   30  single   f    straight       NaN  mostly vegetarian     socially   \n",
      "18832   39  single   m    straight  athletic                NaN     socially   \n",
      "23767   32  single   f    straight      thin    mostly anything  desperately   \n",
      "37111   25  single   m    straight       fit    mostly anything     socially   \n",
      "45959   36  single   m    straight       NaN                NaN   very often   \n",
      "56287   25  single   f    straight       NaN                NaN        often   \n",
      "\n",
      "       drugs                          education  \\\n",
      "12193    NaN          graduated from space camp   \n",
      "18832  never     graduated from masters program   \n",
      "23767    NaN            working on ph.d program   \n",
      "37111  never  graduated from college/university   \n",
      "45959  never  graduated from college/university   \n",
      "56287  often              working on space camp   \n",
      "\n",
      "                                ethnicity  height   income  \\\n",
      "12193                               white     8.0       -1   \n",
      "18832                               asian     3.0       -1   \n",
      "23767                                 NaN     6.0       -1   \n",
      "37111                               asian     9.0  1000000   \n",
      "45959                                 NaN     1.0    80000   \n",
      "56287  pacific islander, hispanic / latin     4.0       -1   \n",
      "\n",
      "                                  job       last_online  \\\n",
      "12193               medicine / health  2012-06-30-03-02   \n",
      "18832  computer / hardware / software  2012-06-24-14-33   \n",
      "23767           entertainment / media  2011-06-29-22-32   \n",
      "37111     artistic / musical / writer  2011-11-15-19-55   \n",
      "45959    science / tech / engineering  2012-06-28-14-18   \n",
      "56287     artistic / musical / writer  2012-06-25-07-32   \n",
      "\n",
      "                        location          offspring  \\\n",
      "12193       berkeley, california  doesn't have kids   \n",
      "18832  san francisco, california                NaN   \n",
      "23767  san francisco, california                NaN   \n",
      "37111      san mateo, california                NaN   \n",
      "45959        oakland, california                NaN   \n",
      "56287  san francisco, california                NaN   \n",
      "\n",
      "                             pets                                   religion  \\\n",
      "12193   likes dogs and likes cats       judaism but not too serious about it   \n",
      "18832                  likes dogs  christianity but not too serious about it   \n",
      "23767     likes dogs and has cats                                agnosticism   \n",
      "37111                         NaN                                        NaN   \n",
      "45959     likes dogs and has cats              judaism and laughing about it   \n",
      "56287  has dogs and dislikes cats                other and laughing about it   \n",
      "\n",
      "                                        sign         smokes  \\\n",
      "12193     taurus but it doesn&rsquo;t matter             no   \n",
      "18832     gemini but it doesn&rsquo;t matter             no   \n",
      "23767                                    NaN             no   \n",
      "37111  leo and it&rsquo;s fun to think about  when drinking   \n",
      "45959  leo and it&rsquo;s fun to think about  when drinking   \n",
      "56287     cancer but it doesn&rsquo;t matter            yes   \n",
      "\n",
      "                                                  speaks  \\\n",
      "12193                                            english   \n",
      "18832  english (fluently), chinese (okay), french (po...   \n",
      "23767  english (fluently), french (okay), german (poo...   \n",
      "37111  english (fluently), chinese (fluently), japane...   \n",
      "45959  english (fluently), c++ (fluently), hebrew (po...   \n",
      "56287               english (fluently), spanish (poorly)   \n",
      "\n",
      "                                                  essay0  \\\n",
      "12193  well, hello and thank you for stopping by my g...   \n",
      "18832  home: i was a happy surprise for my parents. y...   \n",
      "23767  small teller of tall tales. nostalgiaphile. un...   \n",
      "37111  dating me is not for everyone. i will frequent...   \n",
      "45959  i'm a transplant from southern california with...   \n",
      "56287  i love not dancing and portobello mushrooms. a...   \n",
      "\n",
      "                                                  essay1  \\\n",
      "12193  i mostly try to be good at what i do, maintain...   \n",
      "18832  working at a start-up in technology. never rea...   \n",
      "23767  entropologist/enigmatologist/muse/things that ...   \n",
      "37111  in preschool, i was the boy that drew transfor...   \n",
      "45959  living each day as if it'd be my last, and man...   \n",
      "56287                   walking around town left handed.   \n",
      "\n",
      "                                                  essay2  \\\n",
      "12193                                   folding laundry.   \n",
      "18832  online dating. it's the dating in real life th...   \n",
      "23767  the things i don't quit. but only because i te...   \n",
      "37111  besides the obvious stated above: cracking non...   \n",
      "45959  writing, rambling, fixing anything thats break...   \n",
      "56287  being online and starting collections. i am re...   \n",
      "\n",
      "                                                  essay3  \\\n",
      "12193  perhaps my eyes? i'm told they are a unique co...   \n",
      "18832  that i am trying to notice what they are tryin...   \n",
      "23767  something about the eyes-to-face ratio. and th...   \n",
      "37111  the hair. and yes, they're deadly poisonous sp...   \n",
      "45959  my otherwise perfect hair, my half-sleeve tatt...   \n",
      "56287         my long fingers and ability to be awkward.   \n",
      "\n",
      "                                                  essay4  \\\n",
      "12193  i really like memoirs of folks who have persev...   \n",
      "18832  books: espn, 30 rock, kama sutra, spider-man  ...   \n",
      "23767  current train reading = miranda july's _no one...   \n",
      "37111  octobor sky, the matrix, toy story, graves of ...   \n",
      "45959  i enjoy reading louis sachar, james burke, ala...   \n",
      "56287                                      potato skins.   \n",
      "\n",
      "                                                  essay5  \\\n",
      "12193                                                NaN   \n",
      "18832  1)global warming; uhmm, i mean climate change ...   \n",
      "23767     they wouldn't be things. they would be people.   \n",
      "37111  1. my iphone, but that's as far as i'll go wit...   \n",
      "45959  irish whiskey broadband internet my iphone a d...   \n",
      "56287  the six things i could always do without are: ...   \n",
      "\n",
      "                                                  essay6  \\\n",
      "12193  how many more minutes until i can get into my ...   \n",
      "18832   what i am going to write in this online profile.   \n",
      "23767  most everything. sometimes (okay, maybe often)...   \n",
      "37111   art, plans for the future and what's for dinner.   \n",
      "45959  zombies, and ways not to get eaten by them.  m...   \n",
      "56287    moosing, spain, and one of those sugar daddies.   \n",
      "\n",
      "                                                  essay7  \\\n",
      "12193                                          relaxing!   \n",
      "18832  trying to figure out something atypical to do ...   \n",
      "23767  awake. but that's every night. i suppose that ...   \n",
      "37111  out having a great time with my buddies at a s...   \n",
      "45959  peering through the bottom of a whiskey glass....   \n",
      "56287         watching netflix on my computer and uking.   \n",
      "\n",
      "                                                  essay8  \\\n",
      "12193  when i was a kid, i poured myself a glass of r...   \n",
      "18832  -i have mommy issues. -i can time travel. -i a...   \n",
      "23767  i have no idea why i selected this username. (...   \n",
      "37111  i've seen all 3 twilight movies. despite my ha...   \n",
      "45959  i can't stand online dating, or the stigma att...   \n",
      "56287                                   i'm left-handed.   \n",
      "\n",
      "                                                  essay9  \n",
      "12193  you are easy going and big loving. you are a c...  \n",
      "18832  you are super insecure, emotionally vacant, an...  \n",
      "23767  *you're so inclined.  *oh! but if you're the s...  \n",
      "37111  you're not a date rapist you have the capacity...  \n",
      "45959  if you're a ninja (with skills) or a pirate. y...  \n",
      "56287                               you are left-handed.  \n"
     ]
    }
   ],
   "source": [
    "profile_heights = okcupid[okcupid.height < 10]\n",
    "print(profile_heights)"
   ]
  },
  {
   "attachments": {},
   "cell_type": "markdown",
   "metadata": {},
   "source": [
    "Other that several haveing no income (not significant when considered with below) the rest of the entries are not suspiscious"
   ]
  },
  {
   "attachments": {},
   "cell_type": "markdown",
   "metadata": {},
   "source": [
    "Income looks to be broken down into income brackets with -1 being the entry for no income given (and also having the highest count)"
   ]
  },
  {
   "cell_type": "code",
   "execution_count": 142,
   "metadata": {},
   "outputs": [
    {
     "data": {
      "text/plain": [
       "-1          48442\n",
       " 20000       2952\n",
       " 100000      1621\n",
       " 80000       1111\n",
       " 30000       1048\n",
       " 40000       1005\n",
       " 50000        975\n",
       " 60000        736\n",
       " 70000        707\n",
       " 150000       631\n",
       " 1000000      521\n",
       " 250000       149\n",
       " 500000        48\n",
       "Name: income, dtype: int64"
      ]
     },
     "execution_count": 142,
     "metadata": {},
     "output_type": "execute_result"
    }
   ],
   "source": [
    "okcupid.income.value_counts()"
   ]
  },
  {
   "cell_type": "code",
   "execution_count": 158,
   "metadata": {},
   "outputs": [
    {
     "name": "stdout",
     "output_type": "stream",
     "text": [
      "num of entries: \n",
      "51748\n",
      "       age     status sex orientation body_type               diet    drinks  \\\n",
      "2       38  available   m    straight      thin           anything  socially   \n",
      "6       32     single   f    straight       fit  strictly anything  socially   \n",
      "8       24     single   f    straight       NaN  strictly anything  socially   \n",
      "10      35  available   m    straight   average    mostly anything  socially   \n",
      "28      30     single   m    straight       fit                NaN  socially   \n",
      "...    ...        ...  ..         ...       ...                ...       ...   \n",
      "59926   28     single   f    straight  athletic    mostly anything  socially   \n",
      "59933   30     single   f    straight       NaN                NaN  socially   \n",
      "59935   33     single   f    straight     curvy           anything  socially   \n",
      "59938   48     single   m    straight   average                NaN       NaN   \n",
      "59940   31     single   f    straight       NaN                NaN  socially   \n",
      "\n",
      "       drugs                          education  \\\n",
      "2        NaN     graduated from masters program   \n",
      "6      never  graduated from college/university   \n",
      "8        NaN  graduated from college/university   \n",
      "10       NaN                                NaN   \n",
      "28       NaN     graduated from masters program   \n",
      "...      ...                                ...   \n",
      "59926  never         working on masters program   \n",
      "59933  never                                NaN   \n",
      "59935  never                                NaN   \n",
      "59938    NaN                                NaN   \n",
      "59940  never         working on masters program   \n",
      "\n",
      "                               ethnicity  height  income  job  \\\n",
      "2                                    NaN    68.0      -1  NaN   \n",
      "6                           white, other    65.0      -1  NaN   \n",
      "8                                  white    67.0      -1  NaN   \n",
      "10                                 white    70.0      -1  NaN   \n",
      "28                                   NaN    74.0      -1  NaN   \n",
      "...                                  ...     ...     ...  ...   \n",
      "59926                              white    64.0      -1  NaN   \n",
      "59933                              white    64.0      -1  NaN   \n",
      "59935                              white    67.0      -1  NaN   \n",
      "59938  native american, hispanic / latin    73.0      -1  NaN   \n",
      "59940                     middle eastern    62.0      -1  NaN   \n",
      "\n",
      "            last_online                       location          offspring  \\\n",
      "2      2012-06-27-09-10      san francisco, california                NaN   \n",
      "6      2012-06-25-20-45      san francisco, california                NaN   \n",
      "8      2012-06-29-23-39  belvedere tiburon, california  doesn't have kids   \n",
      "10     2012-06-04-14-59      san francisco, california                NaN   \n",
      "28     2012-06-19-01-22      san francisco, california                NaN   \n",
      "...                 ...                            ...                ...   \n",
      "59926  2012-06-15-16-21           stanford, california                NaN   \n",
      "59933  2012-06-30-09-26      san francisco, california                NaN   \n",
      "59935  2012-06-02-08-16          san mateo, california           has kids   \n",
      "59938  2012-06-14-16-51      san francisco, california  doesn't have kids   \n",
      "59940  2012-07-01-00-40      san francisco, california                NaN   \n",
      "\n",
      "                            pets                                   religion  \\\n",
      "2                       has cats                                        NaN   \n",
      "6      likes dogs and likes cats                                        NaN   \n",
      "8      likes dogs and likes cats  christianity but not too serious about it   \n",
      "10                           NaN                                        NaN   \n",
      "28     likes dogs and likes cats              atheism and laughing about it   \n",
      "...                          ...                                        ...   \n",
      "59926                 likes dogs  christianity but not too serious about it   \n",
      "59933                        NaN                               christianity   \n",
      "59935                        NaN                                        NaN   \n",
      "59938  likes dogs and likes cats                                      other   \n",
      "59940                 likes dogs                                agnosticism   \n",
      "\n",
      "                                          sign         smokes  \\\n",
      "2           pisces but it doesn&rsquo;t matter             no   \n",
      "6                                        virgo            NaN   \n",
      "8           gemini but it doesn&rsquo;t matter  when drinking   \n",
      "10                                      taurus            yes   \n",
      "28                                         NaN             no   \n",
      "...                                        ...            ...   \n",
      "59926                                      NaN             no   \n",
      "59933                                      NaN            NaN   \n",
      "59935  virgo and it&rsquo;s fun to think about  when drinking   \n",
      "59938    leo and it&rsquo;s fun to think about            NaN   \n",
      "59940                              sagittarius             no   \n",
      "\n",
      "                                  speaks  \\\n",
      "2                   english, french, c++   \n",
      "6                                english   \n",
      "8                                english   \n",
      "10                               english   \n",
      "28             english, spanish (poorly)   \n",
      "...                                  ...   \n",
      "59926                            english   \n",
      "59933                            english   \n",
      "59935                 english (fluently)   \n",
      "59938                            english   \n",
      "59940  english (fluently), french, farsi   \n",
      "\n",
      "                                                  essay0  \\\n",
      "2      i'm not ashamed of much, but writing public te...   \n",
      "6      life is about the little things. i love to lau...   \n",
      "8                                                    NaN   \n",
      "10     update: i'm seeing someone, so off the market ...   \n",
      "28     i moved here recently and love this place. i'm...   \n",
      "...                                                  ...   \n",
      "59926                                                NaN   \n",
      "59933  i'm a southern girl from tennesse who moved to...   \n",
      "59935  i am a mom first and foremost. currently separ...   \n",
      "59938  i was born, raised and live in the san francis...   \n",
      "59940  real deal: i am sensitive (sorry, tears includ...   \n",
      "\n",
      "                                                  essay1  \\\n",
      "2      i make nerdy software for musicians, artists, ...   \n",
      "6                             digging up buried treasure   \n",
      "8      oh goodness. at the moment i have 4 jobs, so i...   \n",
      "10     i have three jobs. i've been doing sound and l...   \n",
      "28     settling into a new city, figuring out how bio...   \n",
      "...                                                  ...   \n",
      "59926  i worked in consulting and for nike for a few ...   \n",
      "59933  i'm in human resources for a luxury retail com...   \n",
      "59935  i currently work at safeway. hopefully not for...   \n",
      "59938  i have mostly been working in media arts as an...   \n",
      "59940  right now...watching 'celebrity rehab' and com...   \n",
      "\n",
      "                                                  essay2  \\\n",
      "2      improvising in different contexts. alternating...   \n",
      "6      frolicking witty banter using my camera to ext...   \n",
      "8                                                    NaN   \n",
      "10     hugging, kissing, laughing, motivating people,...   \n",
      "28     making stuff, thinking about stuff and doing s...   \n",
      "...                                                  ...   \n",
      "59926  field hockey working hard and playing hard mee...   \n",
      "59933                       listening and giving advice!   \n",
      "59935                                 a lot of things...   \n",
      "59938  most things creative. having a broad perspecti...   \n",
      "59940  eating chocolate and doing pilates (usually no...   \n",
      "\n",
      "                                                  essay3  \\\n",
      "2      my large jaw and large glasses are the physica...   \n",
      "6                                  i am the last unicorn   \n",
      "8      i'm freakishly blonde and have the same name a...   \n",
      "10                                   my huge goofy smile   \n",
      "28     depends. i've been told my eyes (isn't this th...   \n",
      "...                                                  ...   \n",
      "59926                  my eyes... theyre polka dotted :)   \n",
      "59933                                       my smile :-)   \n",
      "59935  my eyes and then the fact that i am pretty str...   \n",
      "59938                                  i'm approachable.   \n",
      "59940  my hair? eyes? height? curves? dk....my caring...   \n",
      "\n",
      "                                                  essay4  \\\n",
      "2      okay this is where the cultural matrix gets so...   \n",
      "6      i like books. ones with pictures. reading them...   \n",
      "8      i am always willing to try new foods and am no...   \n",
      "10     i'm constantly reading, i read at what my frie...   \n",
      "28     books: 1491. omnivore's dilemma. the amazing a...   \n",
      "...                                                  ...   \n",
      "59926  shows: seinfeld is hysterical! music: oar, dis...   \n",
      "59933  i like any and all types of music, especially ...   \n",
      "59935  i love to read and so i do not have an absolut...   \n",
      "59938  books: lately - eckhart tolle's \"a new earth,\"...   \n",
      "59940  too many to name ... -a new earth, kite runner...   \n",
      "\n",
      "                                                  essay5  \\\n",
      "2      movement conversation creation contemplation t...   \n",
      "6      laughter amazing people in my life color curio...   \n",
      "8      sports/my softball glove coffee. because nobod...   \n",
      "10               family friends food women music reading   \n",
      "28       cities mountains travel bike friends creativity   \n",
      "...                                                  ...   \n",
      "59926  working out laughing with friends family pando...   \n",
      "59933  wine, college football, sweet tea, family, fri...   \n",
      "59935  my kids my ipod/iphone water my car my mac my ...   \n",
      "59938  other people, my ability to think, the sustena...   \n",
      "59940  1. pilates 2. solo relaxation time (with or wi...   \n",
      "\n",
      "                                                  essay6  \\\n",
      "2                                                    NaN   \n",
      "6      synchronicity  there is this whole other realm...   \n",
      "8                                                    NaN   \n",
      "10     snowboarding, food, women, goofy nerd stuff, a...   \n",
      "28     symbiosis. where to go this weekend. politics....   \n",
      "...                                                  ...   \n",
      "59926   the future but also living in the current moment   \n",
      "59933                     it's not glamorous but...work.   \n",
      "59935                  everything i have and want to do!   \n",
      "59938  how to bring about a healthy and loving world....   \n",
      "59940  how i am gonna answer this question! ...existe...   \n",
      "\n",
      "                                                  essay7  \\\n",
      "2      viewing. listening. dancing. talking. drinking...   \n",
      "6      plotting to take over the world with my army o...   \n",
      "8      in or out... drinking with friends, maybe a ba...   \n",
      "10     having dinner and drinks with friends and/or w...   \n",
      "28     getting ready for the weekend, riding bikes, d...   \n",
      "...                                                  ...   \n",
      "59926  meeting friends for dinner and drinks, laughin...   \n",
      "59933             out for drinks or dinner with friends!   \n",
      "59935  either working, hang in' with my kids or out h...   \n",
      "59938                                      being social.   \n",
      "59940  doing the obvious two things everyone is doing...   \n",
      "\n",
      "                                                  essay8  \\\n",
      "2      when i was five years old, i was known as \"the...   \n",
      "6                                my typical friday night   \n",
      "8      potential friends/lovers/people who come in co...   \n",
      "10     i used to wish for a jetpack when blowing out ...   \n",
      "28     i'm a sucker for pictures/youtube videos of ba...   \n",
      "...                                                  ...   \n",
      "59926                                                NaN   \n",
      "59933  embarrassing fact-i love being organized...and...   \n",
      "59935                     hahaha! i'm not telling...yet.   \n",
      "59938  nothing that will be very useful to you or me ...   \n",
      "59940  --is that i sometimes watch reality tv (even t...   \n",
      "\n",
      "                                                  essay9  \n",
      "2      you are bright, open, intense, silly, ironic, ...  \n",
      "6                                                    NaN  \n",
      "8      http://www.youtube.com/watch?v=4dxbwzuwsxk let...  \n",
      "10     you are a complex woman with healthy self-este...  \n",
      "28     you're bright, funny, creative and interesting...  \n",
      "...                                                  ...  \n",
      "59926                                                NaN  \n",
      "59933                    you want to meet someone new :)  \n",
      "59935  you kept reading after currently separated, ar...  \n",
      "59938                          if you feel so compelled.  \n",
      "59940  --if you have the courage to tell me why you c...  \n",
      "\n",
      "[8198 rows x 31 columns]\n"
     ]
    }
   ],
   "source": [
    "okcupid.job.value_counts()\n",
    "print('num of entries: ')\n",
    "print(okcupid.job.value_counts().sum())\n",
    "\n",
    "null_jobs = okcupid[okcupid.job.isnull()]\n",
    "print(null_jobs)\n"
   ]
  },
  {
   "cell_type": "code",
   "execution_count": null,
   "metadata": {},
   "outputs": [],
   "source": [
    "last_online"
   ]
  },
  {
   "cell_type": "code",
   "execution_count": null,
   "metadata": {},
   "outputs": [],
   "source": [
    "location "
   ]
  },
  {
   "cell_type": "code",
   "execution_count": null,
   "metadata": {},
   "outputs": [],
   "source": [
    "offspring "
   ]
  },
  {
   "cell_type": "code",
   "execution_count": null,
   "metadata": {},
   "outputs": [],
   "source": [
    "pets"
   ]
  },
  {
   "cell_type": "code",
   "execution_count": null,
   "metadata": {},
   "outputs": [],
   "source": [
    " religion "
   ]
  },
  {
   "cell_type": "code",
   "execution_count": null,
   "metadata": {},
   "outputs": [],
   "source": [
    "sign "
   ]
  },
  {
   "cell_type": "code",
   "execution_count": null,
   "metadata": {},
   "outputs": [],
   "source": [
    "smokes "
   ]
  },
  {
   "cell_type": "code",
   "execution_count": null,
   "metadata": {},
   "outputs": [],
   "source": [
    "speaks "
   ]
  },
  {
   "cell_type": "code",
   "execution_count": null,
   "metadata": {},
   "outputs": [],
   "source": [
    "essay0-9"
   ]
  },
  {
   "cell_type": "code",
   "execution_count": null,
   "metadata": {},
   "outputs": [],
   "source": [
    "#okcupid.dtypes # done in .info()\n"
   ]
  },
  {
   "cell_type": "code",
   "execution_count": null,
   "metadata": {},
   "outputs": [],
   "source": [
    "#okcupid.describe()"
   ]
  },
  {
   "cell_type": "code",
   "execution_count": null,
   "metadata": {},
   "outputs": [],
   "source": []
  }
 ],
 "metadata": {
  "kernelspec": {
   "display_name": "Python 3",
   "language": "python",
   "name": "python3"
  },
  "language_info": {
   "codemirror_mode": {
    "name": "ipython",
    "version": 3
   },
   "file_extension": ".py",
   "mimetype": "text/x-python",
   "name": "python",
   "nbconvert_exporter": "python",
   "pygments_lexer": "ipython3",
   "version": "3.10.5"
  },
  "orig_nbformat": 4,
  "vscode": {
   "interpreter": {
    "hash": "a42ccb73e7d9bfdf27e036f1d2b8b681e55fc0743cc5586bc2474d4a60f4b886"
   }
  }
 },
 "nbformat": 4,
 "nbformat_minor": 2
}
